{
 "cells": [
  {
   "cell_type": "code",
   "execution_count": 119,
   "metadata": {},
   "outputs": [],
   "source": [
    "import re\n",
    "\n",
    "def remove_only_numeric_words(sentence):\n",
    "    result = \"\"\n",
    "    querywords = sentence.split()\n",
    "    for word in querywords:\n",
    "        if not word.isalpha():\n",
    "            if any(char.isalpha() for char in word):\n",
    "                result = result + ' ' + re.sub(r\"[:.,;\\(\\)\\}\\{\\[\\]!\\?\\!\\'\\\"\\%\\+\\&\\-\\_\\=]\", \" \", word)\n",
    "            elif bool(re.search(r'(?![0-9])(\\s*[\\'\\\"\\-\\_]+\\s*)(?=[0-9])', word)):\n",
    "                result = result + ' ' + word\n",
    "        else:\n",
    "            result = result + ' ' + re.sub(r\"[:.,;\\(\\)\\}\\{\\[\\]!\\?\\!\\'\\\"\\%\\+\\&\\-\\_\\=]\", \" \", word)\n",
    "    return re.sub(' +', ' ', result)\n"
   ]
  },
  {
   "cell_type": "code",
   "execution_count": 118,
   "metadata": {},
   "outputs": [
    {
     "data": {
      "text/plain": [
       "\" 15'6 screen gt6600 cpu 4gb ram tb hdd 50-50 monitor 1024x768 resolution computers where is my computer \""
      ]
     },
     "execution_count": 118,
     "metadata": {},
     "output_type": "execute_result"
    }
   ],
   "source": [
    "remove_only_numeric_words(\"15'6 screen gt6600 cpu ,4gb ram, 1 tb hdd 50-50 monitor; 1024x768 resolution: 3 computers. where is my computer!!??\")"
   ]
  },
  {
   "cell_type": "code",
   "execution_count": 82,
   "metadata": {},
   "outputs": [
    {
     "data": {
      "text/plain": [
       "'bşlab0sd'"
      ]
     },
     "execution_count": 82,
     "metadata": {},
     "output_type": "execute_result"
    }
   ],
   "source": []
  }
 ],
 "metadata": {
  "kernelspec": {
   "display_name": "Python 3",
   "language": "python",
   "name": "python3"
  },
  "language_info": {
   "codemirror_mode": {
    "name": "ipython",
    "version": 3
   },
   "file_extension": ".py",
   "mimetype": "text/x-python",
   "name": "python",
   "nbconvert_exporter": "python",
   "pygments_lexer": "ipython3",
   "version": "3.6.6"
  }
 },
 "nbformat": 4,
 "nbformat_minor": 2
}
