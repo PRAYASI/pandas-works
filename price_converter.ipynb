{
 "cells": [
  {
   "cell_type": "code",
   "execution_count": 28,
   "metadata": {},
   "outputs": [],
   "source": [
    "from num2words import num2words\n",
    "\n",
    "#format is number XXX CURRENCY -> 2500 EUR\n",
    "def convert_price_to_word(price):\n",
    "    price = price.replace('.', '').replace(',', '.')\n",
    "    \n",
    "    if len(price.split(' ')) < 2:\n",
    "        print(price)\n",
    "    elif (\"TL\") in price:\n",
    "        price_and_currency = price.split()\n",
    "        return num2words(price_and_currency[0]) + \" \" + price_and_currency[1]\n",
    "    else:\n",
    "        price_and_currency = price.split()\n",
    "        return num2words(price_and_currency[1]) + \" \" + price_and_currency[0]"
   ]
  },
  {
   "cell_type": "code",
   "execution_count": 30,
   "metadata": {},
   "outputs": [
    {
     "name": "stdout",
     "output_type": "stream",
     "text": [
      "25685TL\n"
     ]
    }
   ],
   "source": [
    "convert_price_to_word('256.85TL')"
   ]
  },
  {
   "cell_type": "code",
   "execution_count": 25,
   "metadata": {},
   "outputs": [
    {
     "data": {
      "text/plain": [
       "'one point five €'"
      ]
     },
     "execution_count": 25,
     "metadata": {},
     "output_type": "execute_result"
    }
   ],
   "source": [
    "convert_price_to_word('€ 1,50')"
   ]
  },
  {
   "cell_type": "code",
   "execution_count": null,
   "metadata": {},
   "outputs": [],
   "source": []
  }
 ],
 "metadata": {
  "kernelspec": {
   "display_name": "Python 3",
   "language": "python",
   "name": "python3"
  },
  "language_info": {
   "codemirror_mode": {
    "name": "ipython",
    "version": 3
   },
   "file_extension": ".py",
   "mimetype": "text/x-python",
   "name": "python",
   "nbconvert_exporter": "python",
   "pygments_lexer": "ipython3",
   "version": "3.6.5"
  }
 },
 "nbformat": 4,
 "nbformat_minor": 2
}
