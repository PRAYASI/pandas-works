{
 "cells": [
  {
   "cell_type": "code",
   "execution_count": 1,
   "metadata": {},
   "outputs": [],
   "source": [
    "#replace comma, dot and semicolon if they locate between two alphabetical characters\n",
    "def replace_comma_dot_semicolon(df):\n",
    "    return df.str.replace('(?![A-Za-zğüşöçİĞÜŞÖÇ ]])(\\s*[,.!&\\/)(;*%\\']+\\s*)(?=[A-Za-zğüşöçİĞÜŞÖÇ ])',' ')"
   ]
  },
  {
   "cell_type": "code",
   "execution_count": 2,
   "metadata": {},
   "outputs": [],
   "source": [
    "import pandas as pd\n",
    "series = pd.Series(['aa.aa', 'bb.   bb', 'cc,cc', 'dd; ddd', 'dd, dd; dd. dd'])"
   ]
  },
  {
   "cell_type": "code",
   "execution_count": 3,
   "metadata": {},
   "outputs": [
    {
     "data": {
      "text/plain": [
       "0          aa aa\n",
       "1          bb bb\n",
       "2          cc cc\n",
       "3         dd ddd\n",
       "4    dd dd dd dd\n",
       "dtype: object"
      ]
     },
     "execution_count": 3,
     "metadata": {},
     "output_type": "execute_result"
    }
   ],
   "source": [
    "replace_comma_dot_semicolon(series)"
   ]
  }
 ],
 "metadata": {
  "kernelspec": {
   "display_name": "Python 3",
   "language": "python",
   "name": "python3"
  },
  "language_info": {
   "codemirror_mode": {
    "name": "ipython",
    "version": 3
   },
   "file_extension": ".py",
   "mimetype": "text/x-python",
   "name": "python",
   "nbconvert_exporter": "python",
   "pygments_lexer": "ipython3",
   "version": "3.6.6"
  }
 },
 "nbformat": 4,
 "nbformat_minor": 2
}
