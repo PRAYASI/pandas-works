{
 "cells": [
  {
   "cell_type": "code",
   "execution_count": 1,
   "metadata": {},
   "outputs": [],
   "source": [
    "lower_map = {ord(u'a'): u'A', ord(u'b'): u'B', ord(u'c'): u'C', ord(u'ç'): u'Ç', ord(u'd'): u'D', ord(u'e'): u'E', ord(u'f'): u'F', ord(u'g'): u'G', ord(u'ğ'): u'Ğ', ord(u'h'): u'H', ord(u'ı'): u'I', ord(u'i'): u'İ', ord(u'j'): u'J', ord(u'k'): u'K', ord(u'l'): u'L', ord(u'm'): u'M', ord(u'n'): u'N', ord(u'o'): u'O', ord(u'ö'): u'Ö', ord(u'p'): u'P', ord(u'r'): u'R', ord(u's'): u'S', ord(u'ş'): u'Ş', ord(u't'): u'T', ord(u'u'): u'U', ord(u'ü'): u'Ü', ord(u'v'): u'V', ord(u'y'): u'Y', ord(u'z'): u'Z' }\n",
    "upper_map = {ord(u'A'): u'a', ord(u'B'): u'b', ord(u'C'): u'c', ord(u'Ç'): u'ç', ord(u'D'): u'd', ord(u'E'): u'e', ord(u'F'): u'f', ord(u'G'): u'g', ord(u'Ğ'): u'ğ', ord(u'H'): u'h', ord(u'I'): u'ı', ord(u'İ'): u'i', ord(u'J'): u'j', ord(u'K'): u'k', ord(u'L'): u'l', ord(u'M'): u'm', ord(u'N'): u'n', ord(u'O'): u'o', ord(u'Ö'): u'ö', ord(u'P'): u'p', ord(u'R'): u'r', ord(u'S'): u's', ord(u'Ş'): u'ş', ord(u'T'): u't', ord(u'U'): u'u', ord(u'Ü'): u'ü', ord(u'V'): u'v', ord(u'Y'): u'y', ord(u'Z'): u'z' }"
   ]
  },
  {
   "cell_type": "code",
   "execution_count": 2,
   "metadata": {},
   "outputs": [],
   "source": [
    "def uppercase(word):\n",
    "    return city.translate(lower_map)"
   ]
  },
  {
   "cell_type": "code",
   "execution_count": 3,
   "metadata": {},
   "outputs": [],
   "source": [
    "def lowercase(word):\n",
    "    return city.translate(upper_map)"
   ]
  },
  {
   "cell_type": "code",
   "execution_count": 4,
   "metadata": {},
   "outputs": [],
   "source": [
    "city = 'şiğüçöİŞĞLÇÖÜ'"
   ]
  },
  {
   "cell_type": "code",
   "execution_count": null,
   "metadata": {},
   "outputs": [],
   "source": [
    "uppercase(city)"
   ]
  },
  {
   "cell_type": "code",
   "execution_count": null,
   "metadata": {},
   "outputs": [],
   "source": [
    "lowercase(city)"
   ]
  }
 ],
 "metadata": {
  "kernelspec": {
   "display_name": "Python 3",
   "language": "python",
   "name": "python3"
  },
  "language_info": {
   "codemirror_mode": {
    "name": "ipython",
    "version": 3
   },
   "file_extension": ".py",
   "mimetype": "text/x-python",
   "name": "python",
   "nbconvert_exporter": "python",
   "pygments_lexer": "ipython3",
   "version": "3.6.5"
  }
 },
 "nbformat": 4,
 "nbformat_minor": 2
}
